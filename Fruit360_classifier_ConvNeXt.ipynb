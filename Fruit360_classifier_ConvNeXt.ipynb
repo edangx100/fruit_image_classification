{
  "cells": [
    {
      "cell_type": "markdown",
      "metadata": {
        "id": "MGFgjX2y2NkI"
      },
      "source": [
        "# Fruit classifier - ConvNeXt"
      ]
    },
    {
      "cell_type": "code",
      "execution_count": null,
      "metadata": {
        "id": "CKhnXX77MPZ8",
        "colab": {
          "base_uri": "https://localhost:8080/"
        },
        "outputId": "df161b05-ee96-4297-8790-e137b545ea49"
      },
      "outputs": [
        {
          "output_type": "stream",
          "name": "stdout",
          "text": [
            "Mounted at /content/drive\n"
          ]
        }
      ],
      "source": [
        "from google.colab import drive\n",
        "drive.mount('/content/drive')"
      ]
    },
    {
      "cell_type": "code",
      "source": [
        "!nvidia-smi -L"
      ],
      "metadata": {
        "colab": {
          "base_uri": "https://localhost:8080/"
        },
        "id": "1qYUMGFkcHG9",
        "outputId": "77b2a15a-afa9-4c2a-9e75-cecbd08349b8"
      },
      "execution_count": null,
      "outputs": [
        {
          "output_type": "stream",
          "name": "stdout",
          "text": [
            "GPU 0: Tesla T4 (UUID: GPU-9419882a-4425-007d-2b58-683dbd9ea7fc)\n"
          ]
        }
      ]
    },
    {
      "cell_type": "code",
      "execution_count": null,
      "metadata": {
        "id": "ljjUAZue2NkK"
      },
      "outputs": [],
      "source": [
        "import matplotlib.pyplot as plt\n",
        "import tensorflow as tf\n",
        "import tensorflow_hub as hub\n",
        "from tensorflow import keras\n",
        "\n",
        "import datetime\n",
        "import os\n",
        "import time\n",
        "import pandas as pd\n",
        "import numpy as np\n",
        "\n",
        "from tensorflow.keras.models import Sequential, Model\n",
        "from tensorflow.keras.layers import Flatten, Dense, Dropout, InputLayer\n",
        "\n",
        "from tensorflow.keras.callbacks import TensorBoard, EarlyStopping, ModelCheckpoint\n",
        "from tensorflow.keras.optimizers import SGD\n",
        "from tensorflow.keras.losses import SparseCategoricalCrossentropy\n",
        "\n",
        "from sklearn.metrics import classification_report, confusion_matrix\n",
        "\n",
        "%matplotlib inline"
      ]
    },
    {
      "cell_type": "code",
      "source": [
        "# Hyperparams\n",
        "\n",
        "IMAGE_SIZE = [224, 224]\n",
        "MODEL_PATH = \"https://tfhub.dev/sayakpaul/convnext_tiny_1k_224_fe/1\"\n",
        "BATCH_SIZE = 32  \n"
      ],
      "metadata": {
        "id": "YK9vBQBSuMUx"
      },
      "execution_count": null,
      "outputs": []
    },
    {
      "cell_type": "markdown",
      "metadata": {
        "id": "zs8IW_CX2NkN"
      },
      "source": [
        "# Prepare sample data for feature extractor and classifier modelling\n",
        "\n",
        "ImageDataGenerator used to load images into memory\n",
        "\n",
        "```"
      ]
    },
    {
      "cell_type": "code",
      "execution_count": null,
      "metadata": {
        "id": "BAzC7QlX2NkN"
      },
      "outputs": [],
      "source": [
        "# https://github.com/keras-team/keras-applications\n",
        "img_height = img_width = 224 # 224 is also ok\n",
        "channels = 3"
      ]
    },
    {
      "cell_type": "code",
      "execution_count": null,
      "metadata": {
        "id": "Mur7BduL2NkN"
      },
      "outputs": [],
      "source": [
        "# Prepare labels, used during tests\n",
        "labels = [ 'Apple Braeburn', 'Apricot', 'Avocado', 'Avocado ripe', 'Banana', 'Banana Lady Finger', 'Banana Red', 'Beetroot', 'Blueberry', 'Cactus fruit',\n",
        "          'Cantaloupe 1', 'Cantaloupe 2', 'Carambula', 'Cauliflower', 'Cherry 1', 'Cherry 2', 'Cherry Rainier', 'Cherry Wax Black', 'Cherry Wax Red', 'Cherry Wax Yellow',\n",
        "          'Chestnut', 'Clementine', 'Cocos', 'Corn', 'Corn Husk', 'Cucumber Ripe', 'Cucumber Ripe 2', 'Dates', 'Eggplant', 'Fig',\n",
        "          'Ginger Root', 'Granadilla', 'Grape Blue', 'Grapefruit Pink', 'Grapefruit White', 'Guava', 'Hazelnut', 'Huckleberry', 'Kaki', 'Kiwi' ]    "
      ]
    },
    {
      "cell_type": "markdown",
      "metadata": {
        "id": "l2X7sE3oRLXN"
      },
      "source": [
        "## Prepare dataset - training and validation"
      ]
    },
    {
      "cell_type": "code",
      "source": [
        "path = \"/content/drive/MyDrive/data/fruit-360/Training40\"\n",
        "\n",
        "import glob\n",
        "import pandas as pd\n",
        "\n",
        "\n",
        "data = []\n",
        "for root, dirs, files in os.walk(path, topdown=True):\n",
        "  for name in files:\n",
        "    if '.jpg' not in name:\n",
        "      continue\n",
        "    filename = os.path.abspath(os.path.join(root, name))\n",
        "    class_name = os.path.basename(root)\n",
        "    data.append((filename, class_name))\n",
        "\n",
        "df_train = pd.DataFrame(data, columns=['filename', 'class_name'])\n",
        "\n",
        "df_train['class_name'] = df_train['class_name'].astype('category')\n",
        "df_train['class'] = df_train['class_name'].cat.codes\n",
        "\n",
        "#shuffle\n",
        "df_train = df_train.sample(frac=1).reset_index(drop=True)\n",
        "\n",
        "print(df_train.head())\n",
        "print(len(df_train))\n",
        "df_train.dtypes"
      ],
      "metadata": {
        "colab": {
          "base_uri": "https://localhost:8080/"
        },
        "id": "NSZJSVyn8UYP",
        "outputId": "93bd67ee-7fb1-41f8-af53-2e6eff4c19fc"
      },
      "execution_count": null,
      "outputs": [
        {
          "output_type": "stream",
          "name": "stdout",
          "text": [
            "                                            filename  class_name  class\n",
            "0  /content/drive/MyDrive/data/fruit-360/Training...       Guava     35\n",
            "1  /content/drive/MyDrive/data/fruit-360/Training...         Fig     29\n",
            "2  /content/drive/MyDrive/data/fruit-360/Training...   Corn Husk     24\n",
            "3  /content/drive/MyDrive/data/fruit-360/Training...  Clementine     21\n",
            "4  /content/drive/MyDrive/data/fruit-360/Training...     Apricot      1\n",
            "20369\n"
          ]
        },
        {
          "output_type": "execute_result",
          "data": {
            "text/plain": [
              "filename        object\n",
              "class_name    category\n",
              "class             int8\n",
              "dtype: object"
            ]
          },
          "metadata": {},
          "execution_count": 7
        }
      ]
    },
    {
      "cell_type": "code",
      "source": [
        "path = \"/content/drive/MyDrive/data/fruit-360/Validation40\"\n",
        "\n",
        "data = []\n",
        "for root, dirs, files in os.walk(path, topdown=True):\n",
        "  for name in files:\n",
        "    if '.jpg' not in name:\n",
        "      continue\n",
        "    filename = os.path.abspath(os.path.join(root, name))\n",
        "    class_name = os.path.basename(root)\n",
        "    data.append((filename, class_name))\n",
        "\n",
        "df_val = pd.DataFrame(data, columns=['filename', 'class_name'])\n",
        "\n",
        "df_val['class_name'] = df_val['class_name'].astype('category')\n",
        "df_val['class'] = df_val['class_name'].cat.codes\n",
        "\n",
        "#shuffle\n",
        "df_val = df_val.sample(frac=1).reset_index(drop=True)\n",
        "\n",
        "print(df_val.head())\n",
        "print(len(df_val))\n",
        "df_val.dtypes"
      ],
      "metadata": {
        "colab": {
          "base_uri": "https://localhost:8080/"
        },
        "id": "vSpXDYkI9WZd",
        "outputId": "89e7df86-f0cf-43a0-e96e-fd233b2942dc"
      },
      "execution_count": null,
      "outputs": [
        {
          "output_type": "stream",
          "name": "stdout",
          "text": [
            "                                            filename    class_name  class\n",
            "0  /content/drive/MyDrive/data/fruit-360/Validati...         Cocos     22\n",
            "1  /content/drive/MyDrive/data/fruit-360/Validati...      Cherry 2     15\n",
            "2  /content/drive/MyDrive/data/fruit-360/Validati...  Avocado ripe      3\n",
            "3  /content/drive/MyDrive/data/fruit-360/Validati...           Fig     29\n",
            "4  /content/drive/MyDrive/data/fruit-360/Validati...      Cherry 2     15\n",
            "3422\n"
          ]
        },
        {
          "output_type": "execute_result",
          "data": {
            "text/plain": [
              "filename        object\n",
              "class_name    category\n",
              "class             int8\n",
              "dtype: object"
            ]
          },
          "metadata": {},
          "execution_count": 8
        }
      ]
    },
    {
      "cell_type": "markdown",
      "metadata": {
        "id": "9iTImGI5qMQT"
      },
      "source": [
        "# Data Pipeline"
      ]
    },
    {
      "cell_type": "code",
      "source": [
        "# Reads an image from a file, decodes it into a tensor, and resizes it\n",
        "# to a fixed shape.\n",
        "img_rows, img_cols = 224,224\n",
        "num_classes = 2\n",
        "batch_size = 32\n",
        "\n",
        "# # Other constants\n",
        "MEAN = tf.constant([0.485 * 255, 0.456 * 255, 0.406 * 255])  # imagenet mean\n",
        "STD = tf.constant([0.229 * 255, 0.224 * 255, 0.225 * 255])  # imagenet std\n",
        "AUTO = tf.data.AUTOTUNE\n",
        "\n",
        "def _parse_function(filename, label):\n",
        "  image_string = tf.io.read_file(filename)\n",
        "  image_decoded = tf.image.decode_jpeg(image_string,channels=3) # tf.image.decode_png\n",
        "  image_resized = tf.image.resize(image_decoded, size=[img_rows, img_cols], method=\"bicubic\")\n",
        "  image_resized = tf.ensure_shape(image_resized ,shape=(img_rows, img_cols,3))\n",
        "  image_resized = (image_resized - MEAN) / STD  # normalization\n",
        "  return image_resized, label"
      ],
      "metadata": {
        "id": "kHB0am4t9E-O"
      },
      "execution_count": null,
      "outputs": []
    },
    {
      "cell_type": "code",
      "source": [
        "train_dataset = tf.data.Dataset.from_tensor_slices((tf.cast(df_train['filename'].values, tf.string),\n",
        "                                                    tf.cast(df_train['class'].values, tf.int64) ))\n",
        "train_dataset = train_dataset.map(_parse_function)\n",
        "train_dataset = train_dataset.shuffle(5000)\n",
        "train_dataset = train_dataset.batch(batch_size, drop_remainder=True)"
      ],
      "metadata": {
        "id": "7io0E2yVhd_3"
      },
      "execution_count": null,
      "outputs": []
    },
    {
      "cell_type": "code",
      "source": [
        "val_dataset = tf.data.Dataset.from_tensor_slices((tf.cast(df_val['filename'].values, tf.string),\n",
        "                                                    tf.cast(df_val['class'].values, tf.int64) ))\n",
        "val_dataset = val_dataset.map(_parse_function)\n",
        "val_dataset = val_dataset.batch(batch_size, drop_remainder=True)"
      ],
      "metadata": {
        "id": "o3EZocL_9Uzt"
      },
      "execution_count": null,
      "outputs": []
    },
    {
      "cell_type": "code",
      "source": [
        "num_train = tf.data.experimental.cardinality(train_dataset)\n",
        "\n",
        "train_dataset, val_dataset"
      ],
      "metadata": {
        "colab": {
          "base_uri": "https://localhost:8080/"
        },
        "id": "btWLG04Q9zhQ",
        "outputId": "b040225b-3713-4825-d305-101e259fddcc"
      },
      "execution_count": null,
      "outputs": [
        {
          "output_type": "execute_result",
          "data": {
            "text/plain": [
              "(<BatchDataset shapes: ((32, 224, 224, 3), (32,)), types: (tf.float32, tf.int64)>,\n",
              " <BatchDataset shapes: ((32, 224, 224, 3), (32,)), types: (tf.float32, tf.int64)>)"
            ]
          },
          "metadata": {},
          "execution_count": 12
        }
      ]
    },
    {
      "cell_type": "markdown",
      "metadata": {
        "id": "Qf6u_7tt8BYy"
      },
      "source": [
        "# LR Scheduler Utility"
      ]
    },
    {
      "cell_type": "code",
      "execution_count": null,
      "metadata": {
        "id": "oVTbnkJL79T_"
      },
      "outputs": [],
      "source": [
        "# Reference:\n",
        "# https://www.kaggle.com/ashusma/training-rfcx-tensorflow-tpu-effnet-b2\n",
        "\n",
        "\n",
        "class WarmUpCosine(tf.keras.optimizers.schedules.LearningRateSchedule):\n",
        "    def __init__(\n",
        "        self, learning_rate_base, total_steps, warmup_learning_rate, warmup_steps\n",
        "    ):\n",
        "        super(WarmUpCosine, self).__init__()\n",
        "\n",
        "        self.learning_rate_base = learning_rate_base\n",
        "        self.total_steps = total_steps\n",
        "        self.warmup_learning_rate = warmup_learning_rate\n",
        "        self.warmup_steps = warmup_steps\n",
        "        self.pi = tf.constant(np.pi)\n",
        "\n",
        "    def __call__(self, step):\n",
        "        if self.total_steps < self.warmup_steps:\n",
        "            raise ValueError(\"Total_steps must be larger or equal to warmup_steps.\")\n",
        "        learning_rate = (\n",
        "            0.5\n",
        "            * self.learning_rate_base\n",
        "            * (\n",
        "                1\n",
        "                + tf.cos(\n",
        "                    self.pi\n",
        "                    * (tf.cast(step, tf.float32) - self.warmup_steps)\n",
        "                    / float(self.total_steps - self.warmup_steps)\n",
        "                )\n",
        "            )\n",
        "        )\n",
        "\n",
        "        if self.warmup_steps > 0:\n",
        "            if self.learning_rate_base < self.warmup_learning_rate:\n",
        "                raise ValueError(\n",
        "                    \"Learning_rate_base must be larger or equal to \"\n",
        "                    \"warmup_learning_rate.\"\n",
        "                )\n",
        "            slope = (\n",
        "                self.learning_rate_base - self.warmup_learning_rate\n",
        "            ) / self.warmup_steps\n",
        "            warmup_rate = slope * tf.cast(step, tf.float32) + self.warmup_learning_rate\n",
        "            learning_rate = tf.where(\n",
        "                step < self.warmup_steps, warmup_rate, learning_rate\n",
        "            )\n",
        "        return tf.where(\n",
        "            step > self.total_steps, 0.0, learning_rate, name=\"learning_rate\"\n",
        "        )"
      ]
    },
    {
      "cell_type": "markdown",
      "metadata": {
        "id": "ALtRUlxhw8Vt"
      },
      "source": [
        "# Model Utility"
      ]
    },
    {
      "cell_type": "code",
      "source": [
        "def get_model(model_path=MODEL_PATH, res=224, num_classes=40):\n",
        "    hub_layer = hub.KerasLayer(model_path, trainable=True)\n",
        "\n",
        "    model = keras.Sequential(\n",
        "        [\n",
        "            InputLayer((res, res, 3)),\n",
        "            hub_layer,\n",
        "            Dense(num_classes, activation=\"softmax\"),\n",
        "        ]\n",
        "    )\n",
        "    return model"
      ],
      "metadata": {
        "id": "KBr4Ol_FuWjf"
      },
      "execution_count": null,
      "outputs": []
    },
    {
      "cell_type": "code",
      "execution_count": null,
      "metadata": {
        "colab": {
          "base_uri": "https://localhost:8080/"
        },
        "id": "9WZ4f7kA2NkT",
        "outputId": "5c22d3f9-bd7e-4c90-e320-1cd96eb2366e",
        "scrolled": true
      },
      "outputs": [
        {
          "output_type": "stream",
          "name": "stdout",
          "text": [
            "Model: \"sequential\"\n",
            "_________________________________________________________________\n",
            " Layer (type)                Output Shape              Param #   \n",
            "=================================================================\n",
            " keras_layer (KerasLayer)    (None, 768)               27820128  \n",
            "                                                                 \n",
            " dense (Dense)               (None, 40)                30760     \n",
            "                                                                 \n",
            "=================================================================\n",
            "Total params: 27,850,888\n",
            "Trainable params: 27,850,888\n",
            "Non-trainable params: 0\n",
            "_________________________________________________________________\n"
          ]
        }
      ],
      "source": [
        "# Assemble the model\n",
        "model = get_model(MODEL_PATH, num_classes=40)\n",
        "    \n",
        "model.summary()"
      ]
    },
    {
      "cell_type": "markdown",
      "metadata": {
        "id": "dMfenMQcxAAb"
      },
      "source": [
        "# Training Hyperparameters"
      ]
    },
    {
      "cell_type": "code",
      "source": [
        "EPOCHS = 10\n",
        "WARMUP_STEPS = 10\n",
        "INIT_LR = 0.03\n",
        "WAMRUP_LR = 0.006\n",
        "\n",
        "TOTAL_STEPS = int((num_train / BATCH_SIZE) * EPOCHS)"
      ],
      "metadata": {
        "id": "dZnYcf18gws1"
      },
      "execution_count": null,
      "outputs": []
    },
    {
      "cell_type": "code",
      "source": [
        "scheduled_lrs = WarmUpCosine(\n",
        "    learning_rate_base=INIT_LR,\n",
        "    total_steps=TOTAL_STEPS,\n",
        "    warmup_learning_rate=WAMRUP_LR,\n",
        "    warmup_steps=WARMUP_STEPS,\n",
        ")\n",
        "\n",
        "lrs = [scheduled_lrs(step) for step in range(TOTAL_STEPS)]\n",
        "plt.figure(figsize=(10, 6))\n",
        "plt.plot(lrs)\n",
        "plt.xlabel(\"Step\", fontsize=14)\n",
        "plt.ylabel(\"LR\", fontsize=14)\n",
        "plt.show()"
      ],
      "metadata": {
        "colab": {
          "base_uri": "https://localhost:8080/",
          "height": 392
        },
        "id": "lBIY6VJ2gyl-",
        "outputId": "f1d86039-34b7-4c83-cbe0-0e6c1ae111bd"
      },
      "execution_count": null,
      "outputs": [
        {
          "output_type": "display_data",
          "data": {
            "image/png": "[encoded data removed]",
            "text/plain": [
              "<Figure size 720x432 with 1 Axes>"
            ]
          },
          "metadata": {
            "needs_background": "light"
          }
        }
      ]
    },
    {
      "cell_type": "markdown",
      "source": [
        "# Prepare Classifier model"
      ],
      "metadata": {
        "id": "FhGCCKI2bQap"
      }
    },
    {
      "cell_type": "code",
      "source": [
        "optimizer = SGD(scheduled_lrs)\n",
        "loss = SparseCategoricalCrossentropy()"
      ],
      "metadata": {
        "id": "Sr33PwRDg2y-"
      },
      "execution_count": null,
      "outputs": []
    },
    {
      "cell_type": "code",
      "execution_count": null,
      "metadata": {
        "id": "dmEYkqwV2NkU"
      },
      "outputs": [],
      "source": [
        "# Assemble the model\n",
        "model = get_model(MODEL_PATH)\n",
        "\n",
        "# compile the model\n",
        "model.compile(loss=loss, \n",
        "              optimizer=optimizer, \n",
        "              metrics=[\"accuracy\"], \n",
        "              run_eagerly=False)"
      ]
    },
    {
      "cell_type": "code",
      "source": [
        "\n",
        "history = model.fit(train_dataset, \n",
        "                    validation_data=val_dataset,\n",
        "                    epochs=5)"
      ],
      "metadata": {
        "colab": {
          "base_uri": "https://localhost:8080/"
        },
        "id": "W4hLskzC-Gum",
        "outputId": "60604c4e-5e5e-4742-f54e-489b318a7012"
      },
      "execution_count": null,
      "outputs": [
        {
          "output_type": "stream",
          "name": "stdout",
          "text": [
            "Epoch 1/5\n",
            "636/636 [==============================] - 2863s 4s/step - loss: 0.7091 - accuracy: 0.9188 - val_loss: 0.5729 - val_accuracy: 0.9475\n",
            "Epoch 2/5\n",
            "636/636 [==============================] - 524s 805ms/step - loss: 0.4158 - accuracy: 0.9903 - val_loss: 0.5729 - val_accuracy: 0.9475\n",
            "Epoch 3/5\n",
            "636/636 [==============================] - 509s 783ms/step - loss: 0.4157 - accuracy: 0.9904 - val_loss: 0.5729 - val_accuracy: 0.9475\n",
            "Epoch 4/5\n",
            "636/636 [==============================] - 508s 782ms/step - loss: 0.4159 - accuracy: 0.9903 - val_loss: 0.5729 - val_accuracy: 0.9475\n",
            "Epoch 5/5\n",
            "636/636 [==============================] - 509s 782ms/step - loss: 0.4159 - accuracy: 0.9903 - val_loss: 0.5729 - val_accuracy: 0.9475\n"
          ]
        }
      ]
    },
    {
      "cell_type": "code",
      "execution_count": null,
      "metadata": {
        "id": "CRLhx_G12NkV",
        "colab": {
          "base_uri": "https://localhost:8080/",
          "height": 443
        },
        "outputId": "7e1a9be7-c97a-40be-8931-2d1c74df65b0"
      },
      "outputs": [
        {
          "output_type": "display_data",
          "data": {
            "image/png": "[encoded data removed]",
            "text/plain": [
              "<Figure size 504x504 with 2 Axes>"
            ]
          },
          "metadata": {}
        }
      ],
      "source": [
        "plt.style.use('seaborn')                   \n",
        "plt.rcParams['ytick.right']     = True\n",
        "plt.rcParams['ytick.labelright']= True\n",
        "plt.rcParams['ytick.left']      = False\n",
        "plt.rcParams['ytick.labelleft'] = False\n",
        "plt.rcParams['figure.figsize']  = [7,7]   \n",
        "\n",
        "\n",
        "plt.figure()\n",
        "plt.subplot(211)\n",
        "plt.plot(history.history['val_loss'], label=\"validation\")\n",
        "plt.plot(history.history['loss'],label=\"training\")\n",
        "plt.title('Loss value',fontsize=12)\n",
        "\n",
        "ax = plt.gca()\n",
        "ax.set_xticklabels([])\n",
        "\n",
        "plt.subplot(212)\n",
        "plt.plot(history.history['val_accuracy'],label=\"validation\")\n",
        "plt.plot(history.history['accuracy'],label=\"training\")\n",
        "plt.title('Accuracy',fontsize=12)\n",
        "ax.legend()\n",
        "plt.show()"
      ]
    },
    {
      "cell_type": "markdown",
      "metadata": {
        "id": "U0JQlDZJ2NkV"
      },
      "source": [
        "---------------------------"
      ]
    },
    {
      "cell_type": "markdown",
      "metadata": {
        "id": "Kp1toDsl2NkV"
      },
      "source": [
        "------------------------"
      ]
    },
    {
      "cell_type": "markdown",
      "metadata": {
        "id": "48Gr9vWJ2NkV"
      },
      "source": [
        "# Test on unseen data"
      ]
    },
    {
      "cell_type": "markdown",
      "source": [
        "## Prepare dataset - testing"
      ],
      "metadata": {
        "id": "C_m_Z0IVcfbK"
      }
    },
    {
      "cell_type": "code",
      "source": [
        "path = \"/content/drive/MyDrive/data/fruit-360/Testing40\"\n",
        "\n",
        "data = []\n",
        "for root, dirs, files in os.walk(path, topdown=True):\n",
        "  for name in files:\n",
        "    if '.jpg' not in name:\n",
        "      continue\n",
        "    filename = os.path.abspath(os.path.join(root, name))\n",
        "    class_name = os.path.basename(root)\n",
        "    data.append((filename, class_name))\n",
        "\n",
        "df_test = pd.DataFrame(data, columns=['filename', 'class_name'])\n",
        "\n",
        "df_test['class_name'] = df_test['class_name'].astype('category')\n",
        "df_test['class'] = df_test['class_name'].cat.codes\n",
        "\n",
        "#shuffle\n",
        "df_test = df_test.sample(frac=1).reset_index(drop=True)\n",
        "\n",
        "print(df_test.head())\n",
        "print(len(df_test))\n",
        "df_test.dtypes"
      ],
      "metadata": {
        "id": "Bo-6x2DkADH3",
        "colab": {
          "base_uri": "https://localhost:8080/"
        },
        "outputId": "dc565d3d-9776-4233-9431-80212b1d5470"
      },
      "execution_count": null,
      "outputs": [
        {
          "output_type": "stream",
          "name": "stdout",
          "text": [
            "                                            filename         class_name  class\n",
            "0  /content/drive/MyDrive/data/fruit-360/Testing4...  Cherry Wax Yellow     19\n",
            "1  /content/drive/MyDrive/data/fruit-360/Testing4...           Cherry 2     15\n",
            "2  /content/drive/MyDrive/data/fruit-360/Testing4...           Chestnut     20\n",
            "3  /content/drive/MyDrive/data/fruit-360/Testing4...       Cactus fruit      9\n",
            "4  /content/drive/MyDrive/data/fruit-360/Testing4...        Ginger Root     30\n",
            "3410\n"
          ]
        },
        {
          "output_type": "execute_result",
          "data": {
            "text/plain": [
              "filename        object\n",
              "class_name    category\n",
              "class             int8\n",
              "dtype: object"
            ]
          },
          "metadata": {},
          "execution_count": 24
        }
      ]
    },
    {
      "cell_type": "code",
      "source": [
        "test_dataset = tf.data.Dataset.from_tensor_slices((tf.cast(df_test['filename'].values, tf.string),\n",
        "                                                    tf.cast(df_test['class'].values, tf.int64) ))\n",
        "test_dataset = test_dataset.map(_parse_function)\n",
        "test_dataset = test_dataset.batch(batch_size, drop_remainder=True)"
      ],
      "metadata": {
        "id": "nltAD82wBAwV"
      },
      "execution_count": null,
      "outputs": []
    },
    {
      "cell_type": "code",
      "source": [
        "test_dataset"
      ],
      "metadata": {
        "colab": {
          "base_uri": "https://localhost:8080/"
        },
        "id": "nXZXNwyKE1Or",
        "outputId": "583070b4-d569-4ab0-b679-d5f4d3159719"
      },
      "execution_count": null,
      "outputs": [
        {
          "output_type": "execute_result",
          "data": {
            "text/plain": [
              "<BatchDataset shapes: ((32, 224, 224, 3), (32,)), types: (tf.float32, tf.int64)>"
            ]
          },
          "metadata": {},
          "execution_count": 72
        }
      ]
    },
    {
      "cell_type": "markdown",
      "source": [
        "## Test"
      ],
      "metadata": {
        "id": "Dn1i_utTcj_B"
      }
    },
    {
      "cell_type": "code",
      "execution_count": null,
      "metadata": {
        "id": "uvj7rJek2NkW"
      },
      "outputs": [],
      "source": [
        "# Predictions\n",
        "\n",
        "# feed the images directly to the combined model\n",
        "pred = model.predict(test_dataset)\n",
        "\n",
        "# convert from probabilities to labels\n",
        "pred_label_index = pred.argmax(axis=1) "
      ]
    },
    {
      "cell_type": "code",
      "source": [
        "pred_label_index.shape"
      ],
      "metadata": {
        "colab": {
          "base_uri": "https://localhost:8080/"
        },
        "id": "N7KhxbJiG2Iq",
        "outputId": "940d2aa8-1498-40b3-82ce-83b3105c8840"
      },
      "execution_count": null,
      "outputs": [
        {
          "output_type": "execute_result",
          "data": {
            "text/plain": [
              "(3392,)"
            ]
          },
          "metadata": {},
          "execution_count": 74
        }
      ]
    },
    {
      "cell_type": "code",
      "execution_count": null,
      "metadata": {
        "id": "i3rt6-4M2NkX"
      },
      "outputs": [],
      "source": [
        "# Reference\n",
        "# labels: ['Apple Braeburn', 'Apricot', 'Avocado', 'Avocado ripe', 'Banana', 'Banana Lady Finger', 'Banana Red', 'Beetroot', 'Blueberry', 'Cactus fruit',\n",
        "#          'Cantaloupe 1', 'Cantaloupe 2', 'Carambula', 'Cauliflower', 'Cherry 1', 'Cherry 2', 'Cherry Rainier', 'Cherry Wax Black', 'Cherry Wax Red', 'Cherry Wax Yellow',\n",
        "#          'Chestnut', 'Clementine', 'Cocos', 'Corn', 'Corn Husk', 'Cucumber Ripe', 'Cucumber Ripe 2', 'Dates', 'Eggplant', 'Fig',\n",
        "#          'Ginger Root', 'Granadilla', 'Grape Blue', 'Grapefruit Pink', 'Grapefruit White', 'Guava', 'Hazelnut', 'Huckleberry', 'Kaki', 'Kiwi']"
      ]
    },
    {
      "cell_type": "code",
      "source": [
        "# check label indexes\n",
        "print( np.sort( df_test['class'].unique() ) )  \n",
        "\n",
        "# prepare truth data for confusion matrix use\n",
        "truth = df_test['class'][:3392].copy()\n",
        "print( truth.shape )"
      ],
      "metadata": {
        "colab": {
          "base_uri": "https://localhost:8080/"
        },
        "id": "3WxMLDMSAwPM",
        "outputId": "4c319003-b835-4ed0-b8b0-0d1e12df87c3"
      },
      "execution_count": null,
      "outputs": [
        {
          "output_type": "stream",
          "name": "stdout",
          "text": [
            "[ 0  1  2  3  4  5  6  7  8  9 10 11 12 13 14 15 16 17 18 19 20 21 22 23\n",
            " 24 25 26 27 28 29 30 31 32 33 34 35 36 37 38 39]\n",
            "(3392,)\n"
          ]
        }
      ]
    },
    {
      "cell_type": "code",
      "execution_count": null,
      "metadata": {
        "id": "dnLgEiLv2NkX",
        "outputId": "80469219-0f6d-4ef5-f278-77b4be3b0b48",
        "colab": {
          "base_uri": "https://localhost:8080/"
        }
      },
      "outputs": [
        {
          "output_type": "stream",
          "name": "stdout",
          "text": [
            "[[77  0  0 ...  0  0  0]\n",
            " [ 0 81  0 ...  0  0  0]\n",
            " [ 0  0 69 ...  0  0  0]\n",
            " ...\n",
            " [ 0  0  0 ... 82  0  0]\n",
            " [ 0  0  0 ...  0 82  0]\n",
            " [ 0  0  0 ...  0  0 78]]\n",
            "                    precision    recall  f1-score   support\n",
            "\n",
            "    Apple Braeburn       1.00      0.96      0.98        80\n",
            "           Apricot       1.00      1.00      1.00        81\n",
            "           Avocado       1.00      1.00      1.00        69\n",
            "      Avocado ripe       0.95      1.00      0.98        82\n",
            "            Banana       0.99      0.85      0.91        81\n",
            "Banana Lady Finger       0.99      0.99      0.99        76\n",
            "        Banana Red       1.00      1.00      1.00        81\n",
            "          Beetroot       0.73      0.69      0.71        75\n",
            "         Blueberry       0.84      0.69      0.76        77\n",
            "      Cactus fruit       1.00      1.00      1.00        83\n",
            "      Cantaloupe 1       1.00      1.00      1.00        82\n",
            "      Cantaloupe 2       0.91      1.00      0.95        81\n",
            "         Carambula       0.57      1.00      0.73        82\n",
            "       Cauliflower       0.92      1.00      0.96       116\n",
            "          Cherry 1       0.96      1.00      0.98        82\n",
            "          Cherry 2       1.00      1.00      1.00       122\n",
            "    Cherry Rainier       1.00      0.80      0.89       123\n",
            "  Cherry Wax Black       1.00      1.00      1.00        82\n",
            "    Cherry Wax Red       1.00      1.00      1.00        82\n",
            " Cherry Wax Yellow       1.00      1.00      1.00        81\n",
            "          Chestnut       1.00      1.00      1.00        74\n",
            "        Clementine       1.00      1.00      1.00        83\n",
            "             Cocos       0.85      1.00      0.92        83\n",
            "              Corn       1.00      0.52      0.68        75\n",
            "         Corn Husk       1.00      0.70      0.82        76\n",
            "     Cucumber Ripe       1.00      1.00      1.00        65\n",
            "   Cucumber Ripe 2       1.00      1.00      1.00        77\n",
            "             Dates       0.94      1.00      0.97        83\n",
            "          Eggplant       1.00      0.69      0.82        78\n",
            "               Fig       0.97      1.00      0.98       117\n",
            "       Ginger Root       0.91      0.84      0.87        49\n",
            "        Granadilla       0.97      1.00      0.98        83\n",
            "        Grape Blue       0.87      1.00      0.93       164\n",
            "   Grapefruit Pink       1.00      1.00      1.00        83\n",
            "  Grapefruit White       0.93      1.00      0.96        82\n",
            "             Guava       1.00      1.00      1.00        82\n",
            "          Hazelnut       1.00      1.00      1.00        78\n",
            "       Huckleberry       1.00      1.00      1.00        82\n",
            "              Kaki       1.00      1.00      1.00        82\n",
            "              Kiwi       1.00      1.00      1.00        78\n",
            "\n",
            "          accuracy                           0.95      3392\n",
            "         macro avg       0.96      0.94      0.94      3392\n",
            "      weighted avg       0.96      0.95      0.95      3392\n",
            "\n"
          ]
        }
      ],
      "source": [
        "print(confusion_matrix(truth, pred_label_index))\n",
        "print(classification_report(truth, pred_label_index, target_names=labels))"
      ]
    },
    {
      "cell_type": "code",
      "execution_count": null,
      "metadata": {
        "id": "jbPZ38yM2NkY"
      },
      "outputs": [],
      "source": [
        "model.save(\"/content/drive/MyDrive/data/fruit-360/convnext_model.h5\")"
      ]
    },
    {
      "cell_type": "markdown",
      "metadata": {
        "id": "jPHnpGey2NkY"
      },
      "source": [
        "------------------------------------"
      ]
    },
    {
      "cell_type": "markdown",
      "metadata": {
        "id": "vz3VIwuY2NkZ"
      },
      "source": [
        "-----------------------------"
      ]
    }
  ],
  "metadata": {
    "colab": {
      "collapsed_sections": [],
      "name": "Fruit360_classifier_ConvNeXt.ipynb",
      "provenance": []
    },
    "kernelspec": {
      "display_name": "Python 3",
      "language": "python",
      "name": "python3"
    },
    "language_info": {
      "codemirror_mode": {
        "name": "ipython",
        "version": 3
      },
      "file_extension": ".py",
      "mimetype": "text/x-python",
      "name": "python",
      "nbconvert_exporter": "python",
      "pygments_lexer": "ipython3",
      "version": "3.6.10"
    },
    "accelerator": "GPU"
  },
  "nbformat": 4,
  "nbformat_minor": 0
}