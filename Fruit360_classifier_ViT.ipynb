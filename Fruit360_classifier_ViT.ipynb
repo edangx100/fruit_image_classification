{
  "cells": [
    {
      "cell_type": "markdown",
      "metadata": {
        "id": "MGFgjX2y2NkI"
      },
      "source": [
        "# Fruit classifier - Vision Transformer ViT"
      ]
    },
    {
      "cell_type": "code",
      "execution_count": null,
      "metadata": {
        "id": "CKhnXX77MPZ8",
        "colab": {
          "base_uri": "https://localhost:8080/"
        },
        "outputId": "8ad093c0-e784-48e8-a1c0-f550b43f7bab"
      },
      "outputs": [
        {
          "output_type": "stream",
          "name": "stdout",
          "text": [
            "Drive already mounted at /content/drive; to attempt to forcibly remount, call drive.mount(\"/content/drive\", force_remount=True).\n"
          ]
        }
      ],
      "source": [
        "from google.colab import drive\n",
        "drive.mount('/content/drive')"
      ]
    },
    {
      "cell_type": "markdown",
      "source": [
        "Reference used in this project: https://www.kaggle.com/raufmomin/vision-transformer-vit-fine-tuning"
      ],
      "metadata": {
        "id": "DEBR5RhBMWfz"
      }
    },
    {
      "cell_type": "code",
      "execution_count": null,
      "metadata": {
        "id": "ljjUAZue2NkK"
      },
      "outputs": [],
      "source": [
        "import matplotlib.pyplot as plt\n",
        "import tensorflow as tf\n",
        "import datetime\n",
        "import os\n",
        "\n",
        "import pandas as pd\n",
        "import numpy as np\n",
        "\n",
        "# Image loading and augmentation\n",
        "from tensorflow.keras.preprocessing.image import ImageDataGenerator\n",
        "\n",
        "# Target network's classifier\n",
        "from tensorflow.keras.models import Model\n",
        "from tensorflow.keras.layers import Flatten, Dense, Dropout, Input, InputLayer\n",
        "\n",
        "# training\n",
        "from tensorflow.keras.callbacks import TensorBoard, EarlyStopping, ModelCheckpoint\n",
        "from tensorflow.keras.optimizers import SGD\n",
        "\n",
        "# evaluation\n",
        "from sklearn.metrics import classification_report, confusion_matrix\n",
        "\n",
        "from tensorflow.keras import models\n",
        "\n",
        "import time\n",
        "\n",
        "%matplotlib inline"
      ]
    },
    {
      "cell_type": "code",
      "source": [
        "!pip install --quiet vit-keras\n",
        "!pip install tensorflow_addons \n",
        "\n",
        "import tensorflow_addons as tfa\n",
        "from vit_keras import vit"
      ],
      "metadata": {
        "colab": {
          "base_uri": "https://localhost:8080/"
        },
        "id": "gkbW0iETlsdZ",
        "outputId": "23d06bbc-b477-4806-ea2f-2e177f292827"
      },
      "execution_count": null,
      "outputs": [
        {
          "output_type": "stream",
          "name": "stdout",
          "text": [
            "Requirement already satisfied: tensorflow_addons in /usr/local/lib/python3.7/dist-packages (0.15.0)\n",
            "Requirement already satisfied: typeguard>=2.7 in /usr/local/lib/python3.7/dist-packages (from tensorflow_addons) (2.7.1)\n"
          ]
        }
      ]
    },
    {
      "cell_type": "markdown",
      "metadata": {
        "id": "zs8IW_CX2NkN"
      },
      "source": [
        "# Prepare sample data for feature extractor and classifier modelling\n",
        "\n",
        "ImageDataGenerator used to load images into memory\n",
        "\n",
        "```"
      ]
    },
    {
      "cell_type": "code",
      "execution_count": null,
      "metadata": {
        "id": "Mur7BduL2NkN"
      },
      "outputs": [],
      "source": [
        "# Prepare labels, used for test\n",
        "labels = [ 'Apple Braeburn', 'Apricot', 'Avocado', 'Avocado ripe', 'Banana', 'Banana Lady Finger', 'Banana Red', 'Beetroot', 'Blueberry', 'Cactus fruit',\n",
        "          'Cantaloupe 1', 'Cantaloupe 2', 'Carambula', 'Cauliflower', 'Cherry 1', 'Cherry 2', 'Cherry Rainier', 'Cherry Wax Black', 'Cherry Wax Red', 'Cherry Wax Yellow',\n",
        "          'Chestnut', 'Clementine', 'Cocos', 'Corn', 'Corn Husk', 'Cucumber Ripe', 'Cucumber Ripe 2', 'Dates', 'Eggplant', 'Fig',\n",
        "          'Ginger Root', 'Granadilla', 'Grape Blue', 'Grapefruit Pink', 'Grapefruit White', 'Guava', 'Hazelnut', 'Huckleberry', 'Kaki', 'Kiwi' ]"
      ]
    },
    {
      "cell_type": "code",
      "source": [
        "def data_augment(image):\n",
        "    p_spatial = tf.random.uniform([], 0, 1.0, dtype = tf.float32)\n",
        "    p_rotate = tf.random.uniform([], 0, 1.0, dtype = tf.float32)\n",
        "    p_pixel_1 = tf.random.uniform([], 0, 1.0, dtype = tf.float32)\n",
        "    p_pixel_2 = tf.random.uniform([], 0, 1.0, dtype = tf.float32)\n",
        "    p_pixel_3 = tf.random.uniform([], 0, 1.0, dtype = tf.float32)\n",
        "    \n",
        "    # Flips\n",
        "    image = tf.image.random_flip_left_right(image)\n",
        "    image = tf.image.random_flip_up_down(image)\n",
        "    \n",
        "    if p_spatial > .75:\n",
        "        image = tf.image.transpose(image)\n",
        "        \n",
        "    # Rotates\n",
        "    if p_rotate > .75:\n",
        "        image = tf.image.rot90(image, k = 3) # rotate 270º\n",
        "    elif p_rotate > .5:\n",
        "        image = tf.image.rot90(image, k = 2) # rotate 180º\n",
        "    elif p_rotate > .25:\n",
        "        image = tf.image.rot90(image, k = 1) # rotate 90º\n",
        "        \n",
        "    # Pixel-level transforms\n",
        "    if p_pixel_1 >= .4:\n",
        "        image = tf.image.random_saturation(image, lower = .7, upper = 1.3)\n",
        "    if p_pixel_2 >= .4:\n",
        "        image = tf.image.random_contrast(image, lower = .8, upper = 1.2)\n",
        "    if p_pixel_3 >= .4:\n",
        "        image = tf.image.random_brightness(image, max_delta = .1)\n",
        "        \n",
        "    return image"
      ],
      "metadata": {
        "id": "Zlod1_Ywo5CB"
      },
      "execution_count": null,
      "outputs": []
    },
    {
      "cell_type": "code",
      "execution_count": null,
      "metadata": {
        "id": "BAzC7QlX2NkN"
      },
      "outputs": [],
      "source": [
        "img_height = img_width = 224 \n",
        "channels = 3"
      ]
    },
    {
      "cell_type": "code",
      "execution_count": null,
      "metadata": {
        "colab": {
          "base_uri": "https://localhost:8080/"
        },
        "id": "Mu6H9Tg-2NkN",
        "outputId": "6e60cf68-1506-4f33-c7d0-7f3e0e0f5f15"
      },
      "outputs": [
        {
          "output_type": "stream",
          "name": "stdout",
          "text": [
            "Found 20369 images belonging to 40 classes.\n"
          ]
        }
      ],
      "source": [
        "train_datagen = ImageDataGenerator(\n",
        "    rescale=1./255,\n",
        "    # rotation_range=0.4,\n",
        "    # horizontal_flip=True,\n",
        "    preprocessing_function=data_augment) \n",
        "\n",
        "X_train_gen = train_datagen.flow_from_directory('/content/drive/MyDrive/data/fruit-360/Training40',\n",
        "                                                target_size=(img_height, img_width),\n",
        "                                                batch_size=32, shuffle=False)\n",
        "\n",
        "\n",
        "X_train, y_train = next(X_train_gen)"
      ]
    },
    {
      "cell_type": "code",
      "execution_count": null,
      "metadata": {
        "colab": {
          "base_uri": "https://localhost:8080/"
        },
        "id": "gW8CR-oDMYr7",
        "outputId": "fb65768a-b6ab-4222-ddd5-a582abb3c528"
      },
      "outputs": [
        {
          "output_type": "execute_result",
          "data": {
            "text/plain": [
              "((32, 224, 224, 3), (32, 40))"
            ]
          },
          "metadata": {},
          "execution_count": 8
        }
      ],
      "source": [
        "X_train.shape, y_train.shape"
      ]
    },
    {
      "cell_type": "code",
      "execution_count": null,
      "metadata": {
        "colab": {
          "base_uri": "https://localhost:8080/"
        },
        "id": "qiz4qJSY2NkO",
        "outputId": "374ea5a9-9cc6-4a4a-a64b-6bcf3a3718bf"
      },
      "outputs": [
        {
          "output_type": "stream",
          "name": "stdout",
          "text": [
            "Found 3422 images belonging to 40 classes.\n"
          ]
        }
      ],
      "source": [
        "val_datagen = ImageDataGenerator(\n",
        "    rescale=1./255,\n",
        "    # rotation_range=0.4,\n",
        "    # horizontal_flip=True,\n",
        "    preprocessing_function=data_augment) \n",
        "\n",
        "X_val_gen = val_datagen.flow_from_directory('/content/drive/MyDrive/data/fruit-360/Validation40',\n",
        "                                                target_size=(img_height, img_width),\n",
        "                                                batch_size=32, shuffle=False)\n",
        "\n",
        "X_val, y_val = next(X_val_gen)"
      ]
    },
    {
      "cell_type": "code",
      "execution_count": null,
      "metadata": {
        "colab": {
          "base_uri": "https://localhost:8080/"
        },
        "id": "2AV0uA3sMWsK",
        "outputId": "6bc98be6-2063-463b-a62d-39cb2ee4b1e0"
      },
      "outputs": [
        {
          "output_type": "execute_result",
          "data": {
            "text/plain": [
              "((32, 224, 224, 3), (32, 40))"
            ]
          },
          "metadata": {},
          "execution_count": 10
        }
      ],
      "source": [
        "X_val.shape, y_val.shape"
      ]
    },
    {
      "cell_type": "markdown",
      "metadata": {
        "id": "cflzjEy_2NkP"
      },
      "source": [
        "# Prepare Feature Extractor component"
      ]
    },
    {
      "cell_type": "code",
      "execution_count": null,
      "metadata": {
        "id": "-x9UvVuv2NkR",
        "colab": {
          "base_uri": "https://localhost:8080/"
        },
        "outputId": "3154e2fe-ae12-4184-c8f0-1a51885e4134"
      },
      "outputs": [
        {
          "output_type": "stream",
          "name": "stderr",
          "text": [
            "/usr/local/lib/python3.7/dist-packages/vit_keras/utils.py:83: UserWarning: Resizing position embeddings from 12, 12 to 7, 7\n",
            "  UserWarning,\n"
          ]
        }
      ],
      "source": [
        "IMAGE_SIZE=224\n",
        "\n",
        "model_featurizer = vit.vit_b32(\n",
        "        image_size = IMAGE_SIZE,\n",
        "        activation = 'softmax',\n",
        "        pretrained = True,\n",
        "        include_top = False,\n",
        "        pretrained_top = False,\n",
        "        classes = 40) # exclude classifier"
      ]
    },
    {
      "cell_type": "markdown",
      "metadata": {
        "id": "yrJn94ca2NkR"
      },
      "source": [
        "# Prepare Classifier component"
      ]
    },
    {
      "cell_type": "code",
      "execution_count": null,
      "metadata": {
        "colab": {
          "base_uri": "https://localhost:8080/"
        },
        "id": "SONN5aCh2NkR",
        "outputId": "d48f9d8c-2059-4a53-8c7c-e72b5b6f65d4"
      },
      "outputs": [
        {
          "output_type": "execute_result",
          "data": {
            "text/plain": [
              "((32, 768), (32, 768))"
            ]
          },
          "metadata": {},
          "execution_count": 12
        }
      ],
      "source": [
        "sample_batch_train = X_train\n",
        "sample_batch_val = X_val\n",
        "\n",
        "featOutput_train = model_featurizer.predict(sample_batch_train)\n",
        "featOutput_val = model_featurizer.predict(sample_batch_val)\n",
        "\n",
        "featOutput_train.shape, featOutput_val.shape"
      ]
    },
    {
      "cell_type": "code",
      "execution_count": null,
      "metadata": {
        "id": "QRqkHCFS2NkS"
      },
      "outputs": [],
      "source": [
        "num_classes = 40\n",
        "\n",
        "def classifier():\n",
        "    inputs = Input(shape = (featOutput_train.shape[1:]), name=\"Input_Classifer\")\n",
        "    x = Flatten()(inputs)\n",
        "    x = Dense(500, activation='relu')(x)\n",
        "    x = Dropout(0.2)(x)\n",
        "    x = Dense(100, activation='relu')(x)\n",
        "\n",
        "    x = Dense(num_classes, activation='softmax')(x) \n",
        "                                                    \n",
        "    classfier = Model(inputs=[inputs],outputs=[x])\n",
        "    return classfier"
      ]
    },
    {
      "cell_type": "code",
      "execution_count": null,
      "metadata": {
        "colab": {
          "base_uri": "https://localhost:8080/"
        },
        "id": "7UXPK1GI2NkS",
        "outputId": "4c77ea8c-da21-494f-a13f-3a1f57d0a48d"
      },
      "outputs": [
        {
          "output_type": "stream",
          "name": "stdout",
          "text": [
            "Model: \"model\"\n",
            "_________________________________________________________________\n",
            " Layer (type)                Output Shape              Param #   \n",
            "=================================================================\n",
            " Input_Classifer (InputLayer  [(None, 768)]            0         \n",
            " )                                                               \n",
            "                                                                 \n",
            " flatten (Flatten)           (None, 768)               0         \n",
            "                                                                 \n",
            " dense (Dense)               (None, 500)               384500    \n",
            "                                                                 \n",
            " dropout (Dropout)           (None, 500)               0         \n",
            "                                                                 \n",
            " dense_1 (Dense)             (None, 100)               50100     \n",
            "                                                                 \n",
            " dense_2 (Dense)             (None, 40)                4040      \n",
            "                                                                 \n",
            "=================================================================\n",
            "Total params: 438,640\n",
            "Trainable params: 438,640\n",
            "Non-trainable params: 0\n",
            "_________________________________________________________________\n"
          ]
        }
      ],
      "source": [
        "clf = classifier()\n",
        "clf.summary()"
      ]
    },
    {
      "cell_type": "markdown",
      "metadata": {
        "id": "FFYXaSIT2NkS"
      },
      "source": [
        "### Test feature extractor and classifier components can integrate"
      ]
    },
    {
      "cell_type": "code",
      "source": [
        "learning_rate = 1e-4\n",
        "\n",
        "optimizer = tfa.optimizers.RectifiedAdam(learning_rate = learning_rate)\n",
        "\n",
        "clf.compile(optimizer = optimizer, \n",
        "              loss = tf.keras.losses.CategoricalCrossentropy(label_smoothing = 0.2), \n",
        "              metrics = ['accuracy'])\n",
        "\n",
        "\n",
        "clf.fit(featOutput_train, y_train,\n",
        "          batch_size=32,\n",
        "          validation_data = (featOutput_val, y_val),\n",
        "          epochs = 1)"
      ],
      "metadata": {
        "colab": {
          "base_uri": "https://localhost:8080/"
        },
        "id": "oahR-wPMnfAQ",
        "outputId": "43f46e83-f431-4ecd-e0d6-9dac303f70ac"
      },
      "execution_count": null,
      "outputs": [
        {
          "output_type": "stream",
          "name": "stdout",
          "text": [
            "1/1 [==============================] - 4s 4s/step - loss: 4.1155 - accuracy: 0.0000e+00 - val_loss: 3.6854 - val_accuracy: 0.0000e+00\n"
          ]
        },
        {
          "output_type": "execute_result",
          "data": {
            "text/plain": [
              "<keras.callbacks.History at 0x7f18c0057410>"
            ]
          },
          "metadata": {},
          "execution_count": 15
        }
      ]
    },
    {
      "cell_type": "markdown",
      "metadata": {
        "id": "u8o1Keoc2NkT"
      },
      "source": [
        "# Combine feature extractor and classifier"
      ]
    },
    {
      "cell_type": "markdown",
      "metadata": {
        "id": "l-j0z2Hj2NkT"
      },
      "source": [
        "### Prepare data generator for training "
      ]
    },
    {
      "cell_type": "code",
      "execution_count": null,
      "metadata": {
        "colab": {
          "base_uri": "https://localhost:8080/"
        },
        "id": "hQKa-KbU2NkT",
        "outputId": "b3977d59-76a9-45db-f2fd-138e5dc02f09"
      },
      "outputs": [
        {
          "output_type": "stream",
          "name": "stdout",
          "text": [
            "Found 20369 images belonging to 40 classes.\n",
            "Found 3422 images belonging to 40 classes.\n"
          ]
        }
      ],
      "source": [
        "n_train_set= 256\n",
        "n_val_set = 256\n",
        "\n",
        "train_datagen = ImageDataGenerator(\n",
        "    rescale=1./255,\n",
        "    # rotation_range=0.4,\n",
        "    # horizontal_flip=True,\n",
        "    preprocessing_function=data_augment) \n",
        "\n",
        "X_train_gen = train_datagen.flow_from_directory('/content/drive/MyDrive/data/fruit-360/Training40',\n",
        "                                                target_size=(img_height, img_width),\n",
        "                                                batch_size=n_train_set, shuffle=True)\n",
        "\n",
        "#-----------------------------------------------------------------------------------#\n",
        "\n",
        "val_datagen = ImageDataGenerator(\n",
        "    rescale=1./255,\n",
        "    # rotation_range=0.4,\n",
        "    # horizontal_flip=True,\n",
        "    preprocessing_function=data_augment) \n",
        "\n",
        "X_val_gen = val_datagen.flow_from_directory('/content/drive/MyDrive/data/fruit-360/Validation40',\n",
        "                                                target_size=(img_height, img_width),\n",
        "                                                batch_size=n_val_set, shuffle=True)   # no need to shuffle for testing"
      ]
    },
    {
      "cell_type": "code",
      "execution_count": null,
      "metadata": {
        "colab": {
          "base_uri": "https://localhost:8080/"
        },
        "id": "9WZ4f7kA2NkT",
        "outputId": "c292123b-6332-4153-d9d9-1c6830f86b35",
        "scrolled": true
      },
      "outputs": [
        {
          "output_type": "stream",
          "name": "stdout",
          "text": [
            "Transformer/encoder_norm\n",
            "\n",
            "Model: \"model_1\"\n",
            "_________________________________________________________________\n",
            " Layer (type)                Output Shape              Param #   \n",
            "=================================================================\n",
            " input_1 (InputLayer)        [(None, 224, 224, 3)]     0         \n",
            "                                                                 \n",
            " embedding (Conv2D)          (None, 7, 7, 768)         2360064   \n",
            "                                                                 \n",
            " reshape (Reshape)           (None, 49, 768)           0         \n",
            "                                                                 \n",
            " class_token (ClassToken)    (None, 50, 768)           768       \n",
            "                                                                 \n",
            " Transformer/posembed_input   (None, 50, 768)          38400     \n",
            " (AddPositionEmbs)                                               \n",
            "                                                                 \n",
            " Transformer/encoderblock_0   ((None, 50, 768),        7087872   \n",
            " (TransformerBlock)           (None, 12, None, None))            \n",
            "                                                                 \n",
            " Transformer/encoderblock_1   ((None, 50, 768),        7087872   \n",
            " (TransformerBlock)           (None, 12, None, None))            \n",
            "                                                                 \n",
            " Transformer/encoderblock_2   ((None, 50, 768),        7087872   \n",
            " (TransformerBlock)           (None, 12, None, None))            \n",
            "                                                                 \n",
            " Transformer/encoderblock_3   ((None, 50, 768),        7087872   \n",
            " (TransformerBlock)           (None, 12, None, None))            \n",
            "                                                                 \n",
            " Transformer/encoderblock_4   ((None, 50, 768),        7087872   \n",
            " (TransformerBlock)           (None, 12, None, None))            \n",
            "                                                                 \n",
            " Transformer/encoderblock_5   ((None, 50, 768),        7087872   \n",
            " (TransformerBlock)           (None, 12, None, None))            \n",
            "                                                                 \n",
            " Transformer/encoderblock_6   ((None, 50, 768),        7087872   \n",
            " (TransformerBlock)           (None, 12, None, None))            \n",
            "                                                                 \n",
            " Transformer/encoderblock_7   ((None, 50, 768),        7087872   \n",
            " (TransformerBlock)           (None, 12, None, None))            \n",
            "                                                                 \n",
            " Transformer/encoderblock_8   ((None, 50, 768),        7087872   \n",
            " (TransformerBlock)           (None, 12, None, None))            \n",
            "                                                                 \n",
            " Transformer/encoderblock_9   ((None, 50, 768),        7087872   \n",
            " (TransformerBlock)           (None, 12, None, None))            \n",
            "                                                                 \n",
            " Transformer/encoderblock_10  ((None, 50, 768),        7087872   \n",
            "  (TransformerBlock)          (None, 12, None, None))            \n",
            "                                                                 \n",
            " Transformer/encoderblock_11  ((None, 50, 768),        7087872   \n",
            "  (TransformerBlock)          (None, 12, None, None))            \n",
            "                                                                 \n",
            " Transformer/encoder_norm (L  (None, 50, 768)          1536      \n",
            " ayerNormalization)                                              \n",
            "                                                                 \n",
            " ExtractToken (Lambda)       (None, 768)               0         \n",
            "                                                                 \n",
            " model (Functional)          (None, 40)                438640    \n",
            "                                                                 \n",
            "=================================================================\n",
            "Total params: 87,893,872\n",
            "Trainable params: 438,640\n",
            "Non-trainable params: 87,455,232\n",
            "_________________________________________________________________\n"
          ]
        }
      ],
      "source": [
        "featurizer = model_featurizer\n",
        "\n",
        "# Append the classifier trained earlier to the featurizer\n",
        "#   Classifier's input is featurizer's output\n",
        "#   Model's output is classifier's output\n",
        "\n",
        "combined_model = Model(inputs=featurizer.input,\n",
        "                       outputs=clf(featurizer.output))\n",
        "\n",
        "# Freeze layers up to the last 3th layer (non-inclusive)\n",
        "for layer in combined_model.layers[:-1]:\n",
        "    layer.trainable = False # freeze\n",
        "\n",
        "print(combined_model.layers[-3].name + \"\\n\")    \n",
        "    \n",
        "combined_model.summary()"
      ]
    },
    {
      "cell_type": "code",
      "source": [
        "combined_model.layers[-2], combined_model.layers[-1]"
      ],
      "metadata": {
        "colab": {
          "base_uri": "https://localhost:8080/"
        },
        "id": "FhbpG1UShqK7",
        "outputId": "3cf9fbee-350e-4939-f9eb-30e4788ac710"
      },
      "execution_count": null,
      "outputs": [
        {
          "output_type": "execute_result",
          "data": {
            "text/plain": [
              "(<keras.layers.core.lambda_layer.Lambda at 0x7f18c0729e90>,\n",
              " <keras.engine.functional.Functional at 0x7f18c006dfd0>)"
            ]
          },
          "metadata": {},
          "execution_count": 18
        }
      ]
    },
    {
      "cell_type": "markdown",
      "source": [
        "## train model"
      ],
      "metadata": {
        "id": "SFKRr7pCrm4a"
      }
    },
    {
      "cell_type": "code",
      "source": [
        "learning_rate = 1e-4\n",
        "\n",
        "optimizer = tfa.optimizers.RectifiedAdam(learning_rate = learning_rate)\n",
        "\n",
        "combined_model.compile(optimizer = optimizer, \n",
        "              loss = tf.keras.losses.CategoricalCrossentropy(label_smoothing = 0.2), \n",
        "              metrics = ['accuracy'])\n",
        "\n",
        "STEP_SIZE_TRAIN = X_train_gen.n // X_train_gen.batch_size\n",
        "STEP_SIZE_VALID = X_val_gen.n // X_val_gen.batch_size\n",
        "\n",
        "reduce_lr = tf.keras.callbacks.ReduceLROnPlateau(monitor = 'val_accuracy',\n",
        "                                                 factor = 0.2,\n",
        "                                                 patience = 2,\n",
        "                                                 verbose = 1,\n",
        "                                                 min_delta = 1e-4,\n",
        "                                                 min_lr = 1e-6,\n",
        "                                                 mode = 'max')\n",
        "\n",
        "earlystopping = tf.keras.callbacks.EarlyStopping(monitor = 'val_accuracy',\n",
        "                                                 min_delta = 1e-4,\n",
        "                                                 patience = 5,\n",
        "                                                 mode = 'max',\n",
        "                                                 restore_best_weights = True,\n",
        "                                                 verbose = 1)\n",
        "\n",
        "checkpointer = tf.keras.callbacks.ModelCheckpoint(filepath = './model.hdf5',\n",
        "                                                  monitor = 'val_accuracy', \n",
        "                                                  verbose = 1, \n",
        "                                                  save_best_only = True,\n",
        "                                                  save_weights_only = True,\n",
        "                                                  mode = 'max')\n",
        "\n",
        "callbacks = [earlystopping, reduce_lr, checkpointer]\n",
        "\n",
        "\n",
        "records = combined_model.fit(x = X_train_gen,\n",
        "          steps_per_epoch = STEP_SIZE_TRAIN,\n",
        "          validation_data = X_val_gen,\n",
        "          validation_steps = STEP_SIZE_VALID,\n",
        "          epochs = 8,\n",
        "          callbacks = callbacks)\n"
      ],
      "metadata": {
        "colab": {
          "base_uri": "https://localhost:8080/"
        },
        "id": "3AVBqZFNpfSB",
        "outputId": "46e67cb5-a1f9-4785-c6c4-37c6f43af2e3"
      },
      "execution_count": null,
      "outputs": [
        {
          "output_type": "stream",
          "name": "stdout",
          "text": [
            "Epoch 1/8\n",
            "79/79 [==============================] - ETA: 0s - loss: 3.8802 - accuracy: 0.0463\n",
            "Epoch 00001: val_accuracy improved from -inf to 0.10637, saving model to ./model.hdf5\n",
            "79/79 [==============================] - 474s 6s/step - loss: 3.8802 - accuracy: 0.0463 - val_loss: 3.5181 - val_accuracy: 0.1064 - lr: 1.0000e-04\n",
            "Epoch 2/8\n",
            "79/79 [==============================] - ETA: 0s - loss: 3.2820 - accuracy: 0.2229\n",
            "Epoch 00002: val_accuracy improved from 0.10637 to 0.49219, saving model to ./model.hdf5\n",
            "79/79 [==============================] - 428s 5s/step - loss: 3.2820 - accuracy: 0.2229 - val_loss: 2.8441 - val_accuracy: 0.4922 - lr: 1.0000e-04\n",
            "Epoch 3/8\n",
            "79/79 [==============================] - ETA: 0s - loss: 2.5604 - accuracy: 0.5679\n",
            "Epoch 00003: val_accuracy improved from 0.49219 to 0.79237, saving model to ./model.hdf5\n",
            "79/79 [==============================] - 426s 5s/step - loss: 2.5604 - accuracy: 0.5679 - val_loss: 2.1037 - val_accuracy: 0.7924 - lr: 1.0000e-04\n",
            "Epoch 4/8\n",
            "79/79 [==============================] - ETA: 0s - loss: 1.9461 - accuracy: 0.8225\n",
            "Epoch 00004: val_accuracy improved from 0.79237 to 0.90355, saving model to ./model.hdf5\n",
            "79/79 [==============================] - 422s 5s/step - loss: 1.9461 - accuracy: 0.8225 - val_loss: 1.7006 - val_accuracy: 0.9035 - lr: 1.0000e-04\n",
            "Epoch 5/8\n",
            "79/79 [==============================] - ETA: 0s - loss: 1.6542 - accuracy: 0.9191\n",
            "Epoch 00005: val_accuracy improved from 0.90355 to 0.92668, saving model to ./model.hdf5\n",
            "79/79 [==============================] - 421s 5s/step - loss: 1.6542 - accuracy: 0.9191 - val_loss: 1.5687 - val_accuracy: 0.9267 - lr: 1.0000e-04\n",
            "Epoch 6/8\n",
            "79/79 [==============================] - ETA: 0s - loss: 1.5471 - accuracy: 0.9513\n",
            "Epoch 00006: val_accuracy improved from 0.92668 to 0.94772, saving model to ./model.hdf5\n",
            "79/79 [==============================] - 417s 5s/step - loss: 1.5471 - accuracy: 0.9513 - val_loss: 1.5122 - val_accuracy: 0.9477 - lr: 1.0000e-04\n",
            "Epoch 7/8\n",
            "79/79 [==============================] - ETA: 0s - loss: 1.4898 - accuracy: 0.9683\n",
            "Epoch 00007: val_accuracy improved from 0.94772 to 0.95463, saving model to ./model.hdf5\n",
            "79/79 [==============================] - 416s 5s/step - loss: 1.4898 - accuracy: 0.9683 - val_loss: 1.4796 - val_accuracy: 0.9546 - lr: 1.0000e-04\n",
            "Epoch 8/8\n",
            "79/79 [==============================] - ETA: 0s - loss: 1.4558 - accuracy: 0.9763\n",
            "Epoch 00008: val_accuracy improved from 0.95463 to 0.95763, saving model to ./model.hdf5\n",
            "79/79 [==============================] - 415s 5s/step - loss: 1.4558 - accuracy: 0.9763 - val_loss: 1.4556 - val_accuracy: 0.9576 - lr: 1.0000e-04\n"
          ]
        }
      ]
    },
    {
      "cell_type": "code",
      "execution_count": null,
      "metadata": {
        "colab": {
          "base_uri": "https://localhost:8080/",
          "height": 443
        },
        "id": "CRLhx_G12NkV",
        "outputId": "1050c1c9-33e0-47bf-c3cf-12d400abd78e"
      },
      "outputs": [
        {
          "output_type": "display_data",
          "data": {
            "image/png": "[encoded data removed]",
            "text/plain": [
              "<Figure size 504x504 with 2 Axes>"
            ]
          },
          "metadata": {}
        }
      ],
      "source": [
        "plt.style.use('seaborn')                   \n",
        "plt.rcParams['ytick.right']     = True\n",
        "plt.rcParams['ytick.labelright']= True\n",
        "plt.rcParams['ytick.left']      = False\n",
        "plt.rcParams['ytick.labelleft'] = False\n",
        "plt.rcParams['figure.figsize']  = [7,7]   \n",
        "\n",
        "\n",
        "plt.figure()\n",
        "plt.subplot(211)\n",
        "plt.plot(records.history['val_loss'], label=\"validation\")\n",
        "plt.plot(records.history['loss'],label=\"training\")\n",
        "plt.title('Loss value',fontsize=12)\n",
        "\n",
        "ax = plt.gca()\n",
        "ax.set_xticklabels([])\n",
        "\n",
        "plt.subplot(212)\n",
        "plt.plot(records.history['val_accuracy'],label=\"validation\")\n",
        "plt.plot(records.history['accuracy'],label=\"training\")\n",
        "plt.title('Accuracy',fontsize=12)\n",
        "ax.legend()\n",
        "plt.show()"
      ]
    },
    {
      "cell_type": "markdown",
      "metadata": {
        "id": "U0JQlDZJ2NkV"
      },
      "source": [
        "---------------------------"
      ]
    },
    {
      "cell_type": "markdown",
      "metadata": {
        "id": "Kp1toDsl2NkV"
      },
      "source": [
        "------------------------"
      ]
    },
    {
      "cell_type": "markdown",
      "metadata": {
        "id": "48Gr9vWJ2NkV"
      },
      "source": [
        "# Test on unseen data"
      ]
    },
    {
      "cell_type": "markdown",
      "source": [
        "### Prepare data generator for testing"
      ],
      "metadata": {
        "id": "I0quuyuRrxcy"
      }
    },
    {
      "cell_type": "code",
      "execution_count": null,
      "metadata": {
        "id": "9aiiiFYY2NkW",
        "outputId": "3685da90-da5d-40b0-8ba5-bef211d89107",
        "colab": {
          "base_uri": "https://localhost:8080/"
        }
      },
      "outputs": [
        {
          "output_type": "stream",
          "name": "stdout",
          "text": [
            "Found 3410 images belonging to 40 classes.\n"
          ]
        },
        {
          "output_type": "execute_result",
          "data": {
            "text/plain": [
              "((3410, 224, 224, 3), (3410, 40))"
            ]
          },
          "metadata": {},
          "execution_count": 21
        }
      ],
      "source": [
        "\n",
        "batch_num = 3410\n",
        "\n",
        "test_datagen = ImageDataGenerator(\n",
        "    rescale=1./255,\n",
        "#     rotation_range=0.4,\n",
        "#     horizontal_flip=True,\n",
        "    preprocessing_function=data_augment)\n",
        "\n",
        "\n",
        "X_test_gen = test_datagen.flow_from_directory('/content/drive/MyDrive/data/fruit-360/Testing40',\n",
        "                                             target_size=(img_height, img_width),\n",
        "                                             batch_size=batch_num, shuffle=False)\n",
        "\n",
        "# not using y labels\n",
        "batch_test = next(X_test_gen)\n",
        "X_test = batch_test[0]\n",
        "y_test = batch_test[1]\n",
        "\n",
        "X_test.shape, y_test.shape"
      ]
    },
    {
      "cell_type": "code",
      "source": [
        "y_test[:3]"
      ],
      "metadata": {
        "colab": {
          "base_uri": "https://localhost:8080/"
        },
        "id": "iPO2u7S5V55d",
        "outputId": "96848a8f-32f6-4649-95db-73b4a2f1af81"
      },
      "execution_count": null,
      "outputs": [
        {
          "output_type": "execute_result",
          "data": {
            "text/plain": [
              "array([[1., 0., 0., 0., 0., 0., 0., 0., 0., 0., 0., 0., 0., 0., 0., 0.,\n",
              "        0., 0., 0., 0., 0., 0., 0., 0., 0., 0., 0., 0., 0., 0., 0., 0.,\n",
              "        0., 0., 0., 0., 0., 0., 0., 0.],\n",
              "       [1., 0., 0., 0., 0., 0., 0., 0., 0., 0., 0., 0., 0., 0., 0., 0.,\n",
              "        0., 0., 0., 0., 0., 0., 0., 0., 0., 0., 0., 0., 0., 0., 0., 0.,\n",
              "        0., 0., 0., 0., 0., 0., 0., 0.],\n",
              "       [1., 0., 0., 0., 0., 0., 0., 0., 0., 0., 0., 0., 0., 0., 0., 0.,\n",
              "        0., 0., 0., 0., 0., 0., 0., 0., 0., 0., 0., 0., 0., 0., 0., 0.,\n",
              "        0., 0., 0., 0., 0., 0., 0., 0.]], dtype=float32)"
            ]
          },
          "metadata": {},
          "execution_count": 22
        }
      ]
    },
    {
      "cell_type": "code",
      "execution_count": null,
      "metadata": {
        "id": "uvj7rJek2NkW"
      },
      "outputs": [],
      "source": [
        "# Predictions\n",
        "\n",
        "# feed the images directly to the combined model\n",
        "pred = combined_model.predict(X_test)\n",
        "\n",
        "# convert from probabilities to labels\n",
        "pred_label_index = pred.argmax(axis=1) "
      ]
    },
    {
      "cell_type": "code",
      "execution_count": null,
      "metadata": {
        "id": "i3rt6-4M2NkX"
      },
      "outputs": [],
      "source": [
        "# Reference\n",
        "# labels: ['Apple Braeburn', 'Apricot', 'Avocado', 'Avocado ripe', 'Banana', 'Banana Lady Finger', 'Banana Red', 'Beetroot', 'Blueberry', 'Cactus fruit',\n",
        "#          'Cantaloupe 1', 'Cantaloupe 2', 'Carambula', 'Cauliflower', 'Cherry 1', 'Cherry 2', 'Cherry Rainier', 'Cherry Wax Black', 'Cherry Wax Red', 'Cherry Wax Yellow',\n",
        "#          'Chestnut', 'Clementine', 'Cocos', 'Corn', 'Corn Husk', 'Cucumber Ripe', 'Cucumber Ripe 2', 'Dates', 'Eggplant', 'Fig',\n",
        "#          'Ginger Root', 'Granadilla', 'Grape Blue', 'Grapefruit Pink', 'Grapefruit White', 'Guava', 'Hazelnut', 'Huckleberry', 'Kaki', 'Kiwi']"
      ]
    },
    {
      "cell_type": "code",
      "execution_count": null,
      "metadata": {
        "id": "JmvScdcN2NkX",
        "outputId": "60cdf255-ad51-412e-e063-5a6d4c9d3d0e",
        "colab": {
          "base_uri": "https://localhost:8080/"
        }
      },
      "outputs": [
        {
          "output_type": "stream",
          "name": "stdout",
          "text": [
            "actual Apple Braeburn predicted Apple Braeburn\n"
          ]
        }
      ],
      "source": [
        "truth = y_test.argmax(axis=1) \n",
        "\n",
        "index = 1\n",
        "print('actual', labels[truth[index]], 'predicted', labels[pred_label_index[index]])"
      ]
    },
    {
      "cell_type": "code",
      "source": [
        "truth = y_test.argmax(axis=1) \n",
        "truth.shape"
      ],
      "metadata": {
        "colab": {
          "base_uri": "https://localhost:8080/"
        },
        "id": "hUVNkPz5Uet8",
        "outputId": "71873375-577a-45e0-f8ce-4dfaed17e15f"
      },
      "execution_count": null,
      "outputs": [
        {
          "output_type": "execute_result",
          "data": {
            "text/plain": [
              "(3410,)"
            ]
          },
          "metadata": {},
          "execution_count": 25
        }
      ]
    },
    {
      "cell_type": "code",
      "execution_count": null,
      "metadata": {
        "id": "dnLgEiLv2NkX",
        "outputId": "92849915-4cf7-498c-d940-bbbe2236d325",
        "colab": {
          "base_uri": "https://localhost:8080/"
        }
      },
      "outputs": [
        {
          "output_type": "stream",
          "name": "stdout",
          "text": [
            "[[80  0  0 ...  0  0  0]\n",
            " [ 1 79  0 ...  0  0  0]\n",
            " [ 0  0 70 ...  0  0  0]\n",
            " ...\n",
            " [ 0  0  0 ... 82  0  0]\n",
            " [ 1  0  0 ...  0 79  0]\n",
            " [ 0  0  0 ...  0  0 78]]\n",
            "                    precision    recall  f1-score   support\n",
            "\n",
            "    Apple Braeburn       0.96      0.98      0.97        82\n",
            "           Apricot       0.93      0.96      0.95        82\n",
            "           Avocado       1.00      1.00      1.00        70\n",
            "      Avocado ripe       1.00      0.98      0.99        83\n",
            "            Banana       0.93      0.98      0.95        83\n",
            "Banana Lady Finger       0.97      0.89      0.93        76\n",
            "        Banana Red       0.99      0.99      0.99        83\n",
            "          Beetroot       0.96      0.92      0.94        75\n",
            "         Blueberry       0.94      1.00      0.97        77\n",
            "      Cactus fruit       0.94      1.00      0.97        83\n",
            "      Cantaloupe 1       0.96      1.00      0.98        82\n",
            "      Cantaloupe 2       0.81      0.95      0.88        82\n",
            "         Carambula       1.00      0.98      0.99        83\n",
            "       Cauliflower       0.92      1.00      0.96       117\n",
            "          Cherry 1       0.99      1.00      0.99        82\n",
            "          Cherry 2       0.93      1.00      0.96       122\n",
            "    Cherry Rainier       1.00      0.91      0.95       123\n",
            "  Cherry Wax Black       0.93      1.00      0.96        82\n",
            "    Cherry Wax Red       0.98      1.00      0.99        82\n",
            " Cherry Wax Yellow       0.95      1.00      0.98        81\n",
            "          Chestnut       0.95      0.96      0.95        75\n",
            "        Clementine       0.96      0.94      0.95        83\n",
            "             Cocos       1.00      0.99      0.99        83\n",
            "              Corn       0.99      0.91      0.94        75\n",
            "         Corn Husk       1.00      0.73      0.84        77\n",
            "     Cucumber Ripe       0.97      0.98      0.98        65\n",
            "   Cucumber Ripe 2       0.98      0.76      0.86        78\n",
            "             Dates       0.98      0.99      0.98        83\n",
            "          Eggplant       0.98      0.62      0.76        78\n",
            "               Fig       1.00      1.00      1.00       117\n",
            "       Ginger Root       0.88      0.86      0.87        49\n",
            "        Granadilla       0.99      1.00      0.99        83\n",
            "        Grape Blue       0.94      1.00      0.97       164\n",
            "   Grapefruit Pink       0.97      1.00      0.98        83\n",
            "  Grapefruit White       0.88      0.99      0.93        82\n",
            "             Guava       0.99      1.00      0.99        83\n",
            "          Hazelnut       0.97      1.00      0.99        78\n",
            "       Huckleberry       0.92      0.99      0.95        83\n",
            "              Kaki       0.99      0.95      0.97        83\n",
            "              Kiwi       0.97      1.00      0.99        78\n",
            "\n",
            "          accuracy                           0.96      3410\n",
            "         macro avg       0.96      0.95      0.95      3410\n",
            "      weighted avg       0.96      0.96      0.96      3410\n",
            "\n"
          ]
        }
      ],
      "source": [
        "print(confusion_matrix(truth, pred_label_index))\n",
        "print(classification_report(truth, pred_label_index, target_names=labels))"
      ]
    },
    {
      "cell_type": "code",
      "execution_count": null,
      "metadata": {
        "id": "jbPZ38yM2NkY"
      },
      "outputs": [],
      "source": [
        "combined_model.save(\"/content/drive/MyDrive/data/fruit-360/vit_model.h5\")"
      ]
    },
    {
      "cell_type": "markdown",
      "metadata": {
        "id": "jPHnpGey2NkY"
      },
      "source": [
        "------------------------------------"
      ]
    },
    {
      "cell_type": "markdown",
      "metadata": {
        "id": "vz3VIwuY2NkZ"
      },
      "source": [
        "-----------------------------"
      ]
    }
  ],
  "metadata": {
    "accelerator": "GPU",
    "colab": {
      "collapsed_sections": [],
      "name": "Fruit360_classifier_ViT.ipynb",
      "provenance": []
    },
    "kernelspec": {
      "display_name": "Python 3",
      "language": "python",
      "name": "python3"
    },
    "language_info": {
      "codemirror_mode": {
        "name": "ipython",
        "version": 3
      },
      "file_extension": ".py",
      "mimetype": "text/x-python",
      "name": "python",
      "nbconvert_exporter": "python",
      "pygments_lexer": "ipython3",
      "version": "3.6.10"
    }
  },
  "nbformat": 4,
  "nbformat_minor": 0
}